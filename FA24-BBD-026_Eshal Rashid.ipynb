{
 "cells": [
  {
   "cell_type": "code",
   "execution_count": 1,
   "id": "62b0ad5d-5c67-439f-bf1c-346a1f7f9fbd",
   "metadata": {},
   "outputs": [
    {
     "name": "stdout",
     "output_type": "stream",
     "text": [
      "Eshal\n",
      "18\n",
      "Lahore\n",
      "Name=Eshal,Age=18,City=Lahore\n"
     ]
    }
   ],
   "source": [
    "#Question no 1\n",
    "#Create a class Person with attributes name, age, and city.\n",
    "class person:\n",
    "    def __init__ (self,name,age,city):\n",
    "        self.name=name\n",
    "        self.age=age\n",
    "        self.city=city\n",
    "    def intro(self):\n",
    "        print(f\"Name={self.name},Age={self.age},City={self.city}\")\n",
    "me=person(\"Eshal\",18,\"Lahore\")\n",
    "print(me.name)\n",
    "print(me.age)\n",
    "print(me.city)\n",
    "me.intro()"
   ]
  },
  {
   "cell_type": "code",
   "execution_count": 2,
   "id": "6a862bf6-b5b6-4e22-9413-1e5f551b5832",
   "metadata": {},
   "outputs": [
    {
     "name": "stdout",
     "output_type": "stream",
     "text": [
      "2023\n",
      "24\n",
      "2024\n",
      "Make=2023,model=24,year=2024\n"
     ]
    }
   ],
   "source": [
    "#Question no 2\n",
    "#Create a class Car with attributes make, model, and year.\n",
    "class car:\n",
    "    def __init__(self,make,model,year):\n",
    "        self.make=make\n",
    "        self.model=model\n",
    "        self.year=year\n",
    "    def type(self):\n",
    "        print(f\"Make={self.make},model={self.model},year={self.year}\")\n",
    "car_manufacture=car(2023,24,2024)\n",
    "print(car_manufacture.make)\n",
    "print(car_manufacture.model)\n",
    "print(car_manufacture.year)\n",
    "car_manufacture.type()"
   ]
  },
  {
   "cell_type": "code",
   "execution_count": 3,
   "id": "e08fa8a8-ebb7-421c-8c39-a8d8bf6cf3f0",
   "metadata": {},
   "outputs": [
    {
     "name": "stdout",
     "output_type": "stream",
     "text": [
      "Area of circle is  78.539816\n",
      "Circumference of circle is  31.415927\n"
     ]
    }
   ],
   "source": [
    "#Question no 3\n",
    "#Create a class Circle with attributes radius and methods to calculate area and circumference.\n",
    "import math\n",
    "class circle:\n",
    "    def __init__(self,radius):           #2f if used for formatting making it human readable formatting\n",
    "        self.radius=radius\n",
    "    def area(self):\n",
    "        return math.pi*self.radius**2\n",
    "    def circumference(self):\n",
    "        return 2*math.pi*self.radius\n",
    "my_maths=circle(5)\n",
    "print(f\"Area of circle is {my_maths.area(): 2f}\")\n",
    "print(f\"Circumference of circle is {my_maths.circumference(): 2f}\")"
   ]
  },
  {
   "cell_type": "code",
   "execution_count": 4,
   "id": "6292dea4-5e4c-4da8-b833-d67d9d67346d",
   "metadata": {},
   "outputs": [
    {
     "name": "stdout",
     "output_type": "stream",
     "text": [
      "Area of circle is 4\n",
      "Perimeter of circle is 8\n"
     ]
    }
   ],
   "source": [
    "#Question no 4\n",
    "# Create a class Rectangle with attributes length and width and methods to calculate area and perimeter.\n",
    "class rectangle:\n",
    "    def __init__(self,length,width):\n",
    "        self.length=length\n",
    "        self.width=width\n",
    "    def area(self):\n",
    "        print(f\"Area of circle is {self.length*self.width}\")\n",
    "    def perimeter(self):\n",
    "        print(f\"Perimeter of circle is {2*(self.length+self.width)}\")\n",
    "my_maths=rectangle(2,2)\n",
    "my_maths.area()     \n",
    "my_maths.perimeter()"
   ]
  },
  {
   "cell_type": "code",
   "execution_count": 7,
   "id": "4558207d-6b8a-4e82-bc28-fcf0fb247862",
   "metadata": {},
   "outputs": [
    {
     "name": "stdout",
     "output_type": "stream",
     "text": [
      "Name=Tehreem,Roll_Number:FA24-BBD-026,Average marks are 19.25\n"
     ]
    }
   ],
   "source": [
    "#Question no5\n",
    "#Create a class Student with attributes name, roll_number, and marks. Implement a method to calculate the average marks.\n",
    "class student:\n",
    "    def __init__(self,name,roll_number,programming,math,mgt,acc):\n",
    "        self.name=name\n",
    "        self.roll_number=roll_number\n",
    "        self.programming=programming\n",
    "        self.math=math\n",
    "        self.mgt=mgt\n",
    "        self.acc=acc\n",
    "    def average(self):\n",
    "        print(f\"Name={self.name},Roll_Number:{self.roll_number},Average marks are {(self.programming+self.math+self.mgt+self.acc)/4}\")\n",
    "average_marks=student(\"Tehreem\",\"FA24-BBD-026\",23,18,21,15)\n",
    "average_marks.average() "
   ]
  },
  {
   "cell_type": "code",
   "execution_count": 8,
   "id": "148a4b7d-2607-4b31-8581-fd60f8992df4",
   "metadata": {},
   "outputs": [
    {
     "name": "stdout",
     "output_type": "stream",
     "text": [
      "Title of the book:Alchemist\n",
      "Author of the book:Paulo coelho\n",
      "Publication_year:1947\n"
     ]
    }
   ],
   "source": [
    "#Question no 6\n",
    "#Create a class Book with attributes title, author, and publication_year.\n",
    "class book:\n",
    "    def __init__(self,title,author,publication_year):\n",
    "        self.title=title\n",
    "        self.author=author\n",
    "        self.publication_year=publication_year\n",
    "    def info(self):\n",
    "        print(f\"Title of the book:{self.title}\")\n",
    "        print(f\"Author of the book:{self.author}\")\n",
    "        print(f\"Publication_year:{self.publication_year}\")\n",
    "my_book=book(\"Alchemist\",\"Paulo coelho\",1947)\n",
    "my_book.info()"
   ]
  },
  {
   "cell_type": "code",
   "execution_count": 9,
   "id": "c0645498-37fb-461a-9dc6-8f1a9be6f933",
   "metadata": {},
   "outputs": [
    {
     "name": "stdout",
     "output_type": "stream",
     "text": [
      "Title of the book:Tehreem\n",
      "Author of the book:150000\n",
      "Publication_year:Manager\n"
     ]
    }
   ],
   "source": [
    "#Question no 7\n",
    "#Create a class Employee with attributes name, salary, and designation.\n",
    "class employee:\n",
    "    def __init__(self,name,salary,designation):\n",
    "        self.name=name\n",
    "        self.salary=salary\n",
    "        self.designation=designation\n",
    "    def info(self):\n",
    "        print(f\"Name of the employee:{self.name}\")\n",
    "        print(f\"Salary of the employee:{self.salary}\")\n",
    "        print(f\"Designation:{self.designation}\")\n",
    "my_book=book(\"Tehreem\",150000,\"Manager\")\n",
    "my_book.info()"
   ]
  },
  {
   "cell_type": "code",
   "execution_count": 10,
   "id": "a13d2b67-0473-4a9f-a5ef-b0c96a082bc0",
   "metadata": {},
   "outputs": [
    {
     "name": "stdout",
     "output_type": "stream",
     "text": [
      "Total amount after deposit:1100223\n",
      "Total amount after withdraw:899777\n"
     ]
    }
   ],
   "source": [
    "#Question no 8\n",
    "#Create a class Bank with attributes name, account_number, and balance. Implement methods to deposit and withdraw money.\n",
    "class bank:\n",
    "    def __init__(self,name,account_holder,balance,amount):\n",
    "        self.name=name\n",
    "        self.account_holder=account_holder\n",
    "        self.balance=balance\n",
    "        self.amount=amount\n",
    "    def deposit(self):\n",
    "        print(f\"Total amount after deposit:{self.balance+self.amount}\")\n",
    "    def withdraw(self):\n",
    "        if self.balance>self.amount:\n",
    "            print(f\"Total amount after withdraw:{self.balance-self.amount}\")\n",
    "        else:\n",
    "            print(\"Insufficient balance\")\n",
    "account=bank(\"Eshal\",408,1000000,100223)\n",
    "account.deposit()\n",
    "account.withdraw()"
   ]
  }
 ],
 "metadata": {
  "kernelspec": {
   "display_name": "Python 3 (ipykernel)",
   "language": "python",
   "name": "python3"
  },
  "language_info": {
   "codemirror_mode": {
    "name": "ipython",
    "version": 3
   },
   "file_extension": ".py",
   "mimetype": "text/x-python",
   "name": "python",
   "nbconvert_exporter": "python",
   "pygments_lexer": "ipython3",
   "version": "3.12.4"
  }
 },
 "nbformat": 4,
 "nbformat_minor": 5
}
